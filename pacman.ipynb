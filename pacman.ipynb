{
  "nbformat": 4,
  "nbformat_minor": 0,
  "metadata": {
    "colab": {
      "provenance": []
    },
    "kernelspec": {
      "name": "python3",
      "display_name": "Python 3"
    },
    "language_info": {
      "name": "python"
    }
  },
  "cells": [
    {
      "cell_type": "code",
      "execution_count": null,
      "metadata": {
        "colab": {
          "base_uri": "https://localhost:8080/"
        },
        "id": "oNHEsseBYLC_",
        "outputId": "471faed2-1fe1-44f1-86bc-5962d3554ec2"
      },
      "outputs": [
        {
          "output_type": "stream",
          "name": "stdout",
          "text": [
            "Insira o tamanho do tabuleiro: 3\n",
            ".o.\n",
            "oAA\n",
            "ooo\n",
            "\n",
            "Maior valor possível: 4\n"
          ]
        }
      ],
      "source": [
        "# João Vitor Yokoyama Nobayashi: 2022 0494 0026\n",
        "# Eduardo Costa Pantoja: 2022 0494 0009\n",
        "# Andreya Paiva: 2022 0494 0005\n",
        "\n",
        "tamanho = int(input(\"Insira o tamanho do tabuleiro: \"))\n",
        "while not 2 <= tamanho <= 100:\n",
        "  tamanho = int(input(\"Insira um valor entre 2 e 100\"))\n",
        "  \n",
        "tabuleiro = []\n",
        "linha = \"\"\n",
        "\n",
        "# entrada do tabuleiro\n",
        "for i in range(tamanho):\n",
        "  tabuleiro.append(input())\n",
        "\n",
        "for i in range(tamanho):\n",
        "  linha += tabuleiro[i][::(-1)**(i)].replace(\".\", \"\")\n",
        "\n",
        "comidas = linha.split(\"A\")\n",
        "maximum = max([len(i) for i in comidas])\n",
        "print(\"\\nMaior valor possível:\", maximum)"
      ]
    }
  ]
}